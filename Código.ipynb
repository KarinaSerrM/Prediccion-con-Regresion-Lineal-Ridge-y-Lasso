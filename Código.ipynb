{
 "cells": [
  {
   "cell_type": "code",
   "execution_count": 67,
   "id": "6f16de66-d5a3-4a48-bea4-1fe0685cf7db",
   "metadata": {},
   "outputs": [],
   "source": [
    "# Importamos las librerias necesarias para operaciones, archivo, visualización de graficos y para correr los modelos\n",
    "import numpy as np\n",
    "import pandas as pd\n",
    "import matplotlib.pyplot as plt\n",
    "%matplotlib inline\n",
    "import seaborn as sns\n",
    "import warnings\n",
    "from sklearn.model_selection import train_test_split\n",
    "from sklearn.linear_model import LinearRegression, Ridge, Lasso\n",
    "from sklearn.metrics import mean_squared_error, mean_absolute_error, r2_score\n",
    "from sklearn.preprocessing import StandardScaler\n",
    "from sklearn.model_selection import GridSearchCV\n",
    "warnings.filterwarnings('ignore')"
   ]
  },
  {
   "cell_type": "code",
   "execution_count": 70,
   "id": "03cd827e-13d7-4e6e-91c9-632220ac854b",
   "metadata": {},
   "outputs": [
    {
     "data": {
      "text/html": [
       "<div>\n",
       "<style scoped>\n",
       "    .dataframe tbody tr th:only-of-type {\n",
       "        vertical-align: middle;\n",
       "    }\n",
       "\n",
       "    .dataframe tbody tr th {\n",
       "        vertical-align: top;\n",
       "    }\n",
       "\n",
       "    .dataframe thead th {\n",
       "        text-align: right;\n",
       "    }\n",
       "</style>\n",
       "<table border=\"1\" class=\"dataframe\">\n",
       "  <thead>\n",
       "    <tr style=\"text-align: right;\">\n",
       "      <th></th>\n",
       "      <th>MODELYEAR</th>\n",
       "      <th>MAKE</th>\n",
       "      <th>MODEL</th>\n",
       "      <th>VEHICLECLASS</th>\n",
       "      <th>ENGINESIZE</th>\n",
       "      <th>CYLINDERS</th>\n",
       "      <th>TRANSMISSION</th>\n",
       "      <th>FUELTYPE</th>\n",
       "      <th>FUELCONSUMPTION_CITY</th>\n",
       "      <th>FUELCONSUMPTION_HWY</th>\n",
       "      <th>FUELCONSUMPTION_COMB</th>\n",
       "      <th>FUELCONSUMPTION_COMB_MPG</th>\n",
       "      <th>CO2EMISSIONS</th>\n",
       "    </tr>\n",
       "  </thead>\n",
       "  <tbody>\n",
       "    <tr>\n",
       "      <th>0</th>\n",
       "      <td>2022</td>\n",
       "      <td>Acura</td>\n",
       "      <td>ILX</td>\n",
       "      <td>Compact</td>\n",
       "      <td>2.4</td>\n",
       "      <td>4</td>\n",
       "      <td>AM8</td>\n",
       "      <td>Z</td>\n",
       "      <td>9.9</td>\n",
       "      <td>7.0</td>\n",
       "      <td>8.6</td>\n",
       "      <td>33</td>\n",
       "      <td>200</td>\n",
       "    </tr>\n",
       "    <tr>\n",
       "      <th>1</th>\n",
       "      <td>2022</td>\n",
       "      <td>Acura</td>\n",
       "      <td>MDX SH-AWD</td>\n",
       "      <td>SUV: Small</td>\n",
       "      <td>3.5</td>\n",
       "      <td>6</td>\n",
       "      <td>AS10</td>\n",
       "      <td>Z</td>\n",
       "      <td>12.6</td>\n",
       "      <td>9.4</td>\n",
       "      <td>11.2</td>\n",
       "      <td>25</td>\n",
       "      <td>263</td>\n",
       "    </tr>\n",
       "    <tr>\n",
       "      <th>2</th>\n",
       "      <td>2022</td>\n",
       "      <td>Acura</td>\n",
       "      <td>RDX SH-AWD</td>\n",
       "      <td>SUV: Small</td>\n",
       "      <td>2.0</td>\n",
       "      <td>4</td>\n",
       "      <td>AS10</td>\n",
       "      <td>Z</td>\n",
       "      <td>11.0</td>\n",
       "      <td>8.6</td>\n",
       "      <td>9.9</td>\n",
       "      <td>29</td>\n",
       "      <td>232</td>\n",
       "    </tr>\n",
       "    <tr>\n",
       "      <th>3</th>\n",
       "      <td>2022</td>\n",
       "      <td>Acura</td>\n",
       "      <td>RDX SH-AWD A-SPEC</td>\n",
       "      <td>SUV: Small</td>\n",
       "      <td>2.0</td>\n",
       "      <td>4</td>\n",
       "      <td>AS10</td>\n",
       "      <td>Z</td>\n",
       "      <td>11.3</td>\n",
       "      <td>9.1</td>\n",
       "      <td>10.3</td>\n",
       "      <td>27</td>\n",
       "      <td>242</td>\n",
       "    </tr>\n",
       "    <tr>\n",
       "      <th>4</th>\n",
       "      <td>2022</td>\n",
       "      <td>Acura</td>\n",
       "      <td>TLX SH-AWD</td>\n",
       "      <td>Compact</td>\n",
       "      <td>2.0</td>\n",
       "      <td>4</td>\n",
       "      <td>AS10</td>\n",
       "      <td>Z</td>\n",
       "      <td>11.2</td>\n",
       "      <td>8.0</td>\n",
       "      <td>9.8</td>\n",
       "      <td>29</td>\n",
       "      <td>230</td>\n",
       "    </tr>\n",
       "    <tr>\n",
       "      <th>...</th>\n",
       "      <td>...</td>\n",
       "      <td>...</td>\n",
       "      <td>...</td>\n",
       "      <td>...</td>\n",
       "      <td>...</td>\n",
       "      <td>...</td>\n",
       "      <td>...</td>\n",
       "      <td>...</td>\n",
       "      <td>...</td>\n",
       "      <td>...</td>\n",
       "      <td>...</td>\n",
       "      <td>...</td>\n",
       "      <td>...</td>\n",
       "    </tr>\n",
       "    <tr>\n",
       "      <th>940</th>\n",
       "      <td>2022</td>\n",
       "      <td>Volvo</td>\n",
       "      <td>XC40 T5 AWD</td>\n",
       "      <td>SUV: Small</td>\n",
       "      <td>2.0</td>\n",
       "      <td>4</td>\n",
       "      <td>AS8</td>\n",
       "      <td>Z</td>\n",
       "      <td>10.7</td>\n",
       "      <td>7.7</td>\n",
       "      <td>9.4</td>\n",
       "      <td>30</td>\n",
       "      <td>219</td>\n",
       "    </tr>\n",
       "    <tr>\n",
       "      <th>941</th>\n",
       "      <td>2022</td>\n",
       "      <td>Volvo</td>\n",
       "      <td>XC60 B5 AWD</td>\n",
       "      <td>SUV: Small</td>\n",
       "      <td>2.0</td>\n",
       "      <td>4</td>\n",
       "      <td>AS8</td>\n",
       "      <td>Z</td>\n",
       "      <td>10.5</td>\n",
       "      <td>8.1</td>\n",
       "      <td>9.4</td>\n",
       "      <td>30</td>\n",
       "      <td>219</td>\n",
       "    </tr>\n",
       "    <tr>\n",
       "      <th>942</th>\n",
       "      <td>2022</td>\n",
       "      <td>Volvo</td>\n",
       "      <td>XC60 B6 AWD</td>\n",
       "      <td>SUV: Small</td>\n",
       "      <td>2.0</td>\n",
       "      <td>4</td>\n",
       "      <td>AS8</td>\n",
       "      <td>Z</td>\n",
       "      <td>11.0</td>\n",
       "      <td>8.7</td>\n",
       "      <td>9.9</td>\n",
       "      <td>29</td>\n",
       "      <td>232</td>\n",
       "    </tr>\n",
       "    <tr>\n",
       "      <th>943</th>\n",
       "      <td>2022</td>\n",
       "      <td>Volvo</td>\n",
       "      <td>XC90 T5 AWD</td>\n",
       "      <td>SUV: Standard</td>\n",
       "      <td>2.0</td>\n",
       "      <td>4</td>\n",
       "      <td>AS8</td>\n",
       "      <td>Z</td>\n",
       "      <td>11.5</td>\n",
       "      <td>8.4</td>\n",
       "      <td>10.1</td>\n",
       "      <td>28</td>\n",
       "      <td>236</td>\n",
       "    </tr>\n",
       "    <tr>\n",
       "      <th>944</th>\n",
       "      <td>2022</td>\n",
       "      <td>Volvo</td>\n",
       "      <td>XC90 T6 AWD</td>\n",
       "      <td>SUV: Standard</td>\n",
       "      <td>2.0</td>\n",
       "      <td>4</td>\n",
       "      <td>AS8</td>\n",
       "      <td>Z</td>\n",
       "      <td>12.4</td>\n",
       "      <td>8.9</td>\n",
       "      <td>10.8</td>\n",
       "      <td>26</td>\n",
       "      <td>252</td>\n",
       "    </tr>\n",
       "  </tbody>\n",
       "</table>\n",
       "<p>945 rows × 13 columns</p>\n",
       "</div>"
      ],
      "text/plain": [
       "     MODELYEAR   MAKE              MODEL   VEHICLECLASS  ENGINESIZE  \\\n",
       "0         2022  Acura                ILX        Compact         2.4   \n",
       "1         2022  Acura         MDX SH-AWD     SUV: Small         3.5   \n",
       "2         2022  Acura         RDX SH-AWD     SUV: Small         2.0   \n",
       "3         2022  Acura  RDX SH-AWD A-SPEC     SUV: Small         2.0   \n",
       "4         2022  Acura         TLX SH-AWD        Compact         2.0   \n",
       "..         ...    ...                ...            ...         ...   \n",
       "940       2022  Volvo        XC40 T5 AWD     SUV: Small         2.0   \n",
       "941       2022  Volvo        XC60 B5 AWD     SUV: Small         2.0   \n",
       "942       2022  Volvo        XC60 B6 AWD     SUV: Small         2.0   \n",
       "943       2022  Volvo        XC90 T5 AWD  SUV: Standard         2.0   \n",
       "944       2022  Volvo        XC90 T6 AWD  SUV: Standard         2.0   \n",
       "\n",
       "     CYLINDERS TRANSMISSION FUELTYPE  FUELCONSUMPTION_CITY  \\\n",
       "0            4          AM8        Z                   9.9   \n",
       "1            6         AS10        Z                  12.6   \n",
       "2            4         AS10        Z                  11.0   \n",
       "3            4         AS10        Z                  11.3   \n",
       "4            4         AS10        Z                  11.2   \n",
       "..         ...          ...      ...                   ...   \n",
       "940          4          AS8        Z                  10.7   \n",
       "941          4          AS8        Z                  10.5   \n",
       "942          4          AS8        Z                  11.0   \n",
       "943          4          AS8        Z                  11.5   \n",
       "944          4          AS8        Z                  12.4   \n",
       "\n",
       "     FUELCONSUMPTION_HWY  FUELCONSUMPTION_COMB  FUELCONSUMPTION_COMB_MPG  \\\n",
       "0                    7.0                   8.6                        33   \n",
       "1                    9.4                  11.2                        25   \n",
       "2                    8.6                   9.9                        29   \n",
       "3                    9.1                  10.3                        27   \n",
       "4                    8.0                   9.8                        29   \n",
       "..                   ...                   ...                       ...   \n",
       "940                  7.7                   9.4                        30   \n",
       "941                  8.1                   9.4                        30   \n",
       "942                  8.7                   9.9                        29   \n",
       "943                  8.4                  10.1                        28   \n",
       "944                  8.9                  10.8                        26   \n",
       "\n",
       "     CO2EMISSIONS  \n",
       "0             200  \n",
       "1             263  \n",
       "2             232  \n",
       "3             242  \n",
       "4             230  \n",
       "..            ...  \n",
       "940           219  \n",
       "941           219  \n",
       "942           232  \n",
       "943           236  \n",
       "944           252  \n",
       "\n",
       "[945 rows x 13 columns]"
      ]
     },
     "execution_count": 70,
     "metadata": {},
     "output_type": "execute_result"
    }
   ],
   "source": [
    "# Cargamos los datos y los visualizamos\n",
    "df = pd.read_excel('FuelConsumptionCo2.xlsx')\n",
    "df"
   ]
  },
  {
   "cell_type": "code",
   "execution_count": 72,
   "id": "8e308b42-a4e9-4b74-8fea-11513f6d7ee8",
   "metadata": {},
   "outputs": [
    {
     "data": {
      "text/html": [
       "<div>\n",
       "<style scoped>\n",
       "    .dataframe tbody tr th:only-of-type {\n",
       "        vertical-align: middle;\n",
       "    }\n",
       "\n",
       "    .dataframe tbody tr th {\n",
       "        vertical-align: top;\n",
       "    }\n",
       "\n",
       "    .dataframe thead th {\n",
       "        text-align: right;\n",
       "    }\n",
       "</style>\n",
       "<table border=\"1\" class=\"dataframe\">\n",
       "  <thead>\n",
       "    <tr style=\"text-align: right;\">\n",
       "      <th></th>\n",
       "      <th>MODELYEAR</th>\n",
       "      <th>ENGINESIZE</th>\n",
       "      <th>CYLINDERS</th>\n",
       "      <th>FUELCONSUMPTION_CITY</th>\n",
       "      <th>FUELCONSUMPTION_HWY</th>\n",
       "      <th>FUELCONSUMPTION_COMB</th>\n",
       "      <th>FUELCONSUMPTION_COMB_MPG</th>\n",
       "      <th>CO2EMISSIONS</th>\n",
       "    </tr>\n",
       "  </thead>\n",
       "  <tbody>\n",
       "    <tr>\n",
       "      <th>count</th>\n",
       "      <td>945.0</td>\n",
       "      <td>945.000000</td>\n",
       "      <td>945.000000</td>\n",
       "      <td>945.000000</td>\n",
       "      <td>945.000000</td>\n",
       "      <td>945.000000</td>\n",
       "      <td>945.000000</td>\n",
       "      <td>945.000000</td>\n",
       "    </tr>\n",
       "    <tr>\n",
       "      <th>mean</th>\n",
       "      <td>2022.0</td>\n",
       "      <td>3.201058</td>\n",
       "      <td>5.670899</td>\n",
       "      <td>12.515767</td>\n",
       "      <td>9.374603</td>\n",
       "      <td>11.102222</td>\n",
       "      <td>27.222222</td>\n",
       "      <td>259.410582</td>\n",
       "    </tr>\n",
       "    <tr>\n",
       "      <th>std</th>\n",
       "      <td>0.0</td>\n",
       "      <td>1.374256</td>\n",
       "      <td>1.932837</td>\n",
       "      <td>3.452369</td>\n",
       "      <td>2.290217</td>\n",
       "      <td>2.878074</td>\n",
       "      <td>7.684409</td>\n",
       "      <td>64.486225</td>\n",
       "    </tr>\n",
       "    <tr>\n",
       "      <th>min</th>\n",
       "      <td>2022.0</td>\n",
       "      <td>1.200000</td>\n",
       "      <td>3.000000</td>\n",
       "      <td>4.000000</td>\n",
       "      <td>3.900000</td>\n",
       "      <td>4.000000</td>\n",
       "      <td>11.000000</td>\n",
       "      <td>94.000000</td>\n",
       "    </tr>\n",
       "    <tr>\n",
       "      <th>25%</th>\n",
       "      <td>2022.0</td>\n",
       "      <td>2.000000</td>\n",
       "      <td>4.000000</td>\n",
       "      <td>10.200000</td>\n",
       "      <td>7.700000</td>\n",
       "      <td>9.100000</td>\n",
       "      <td>22.000000</td>\n",
       "      <td>214.000000</td>\n",
       "    </tr>\n",
       "    <tr>\n",
       "      <th>50%</th>\n",
       "      <td>2022.0</td>\n",
       "      <td>3.000000</td>\n",
       "      <td>6.000000</td>\n",
       "      <td>12.200000</td>\n",
       "      <td>9.200000</td>\n",
       "      <td>10.800000</td>\n",
       "      <td>26.000000</td>\n",
       "      <td>258.000000</td>\n",
       "    </tr>\n",
       "    <tr>\n",
       "      <th>75%</th>\n",
       "      <td>2022.0</td>\n",
       "      <td>3.800000</td>\n",
       "      <td>6.000000</td>\n",
       "      <td>14.700000</td>\n",
       "      <td>10.700000</td>\n",
       "      <td>12.900000</td>\n",
       "      <td>31.000000</td>\n",
       "      <td>301.000000</td>\n",
       "    </tr>\n",
       "    <tr>\n",
       "      <th>max</th>\n",
       "      <td>2022.0</td>\n",
       "      <td>8.000000</td>\n",
       "      <td>16.000000</td>\n",
       "      <td>30.300000</td>\n",
       "      <td>20.900000</td>\n",
       "      <td>26.100000</td>\n",
       "      <td>71.000000</td>\n",
       "      <td>608.000000</td>\n",
       "    </tr>\n",
       "  </tbody>\n",
       "</table>\n",
       "</div>"
      ],
      "text/plain": [
       "       MODELYEAR  ENGINESIZE   CYLINDERS  FUELCONSUMPTION_CITY  \\\n",
       "count      945.0  945.000000  945.000000            945.000000   \n",
       "mean      2022.0    3.201058    5.670899             12.515767   \n",
       "std          0.0    1.374256    1.932837              3.452369   \n",
       "min       2022.0    1.200000    3.000000              4.000000   \n",
       "25%       2022.0    2.000000    4.000000             10.200000   \n",
       "50%       2022.0    3.000000    6.000000             12.200000   \n",
       "75%       2022.0    3.800000    6.000000             14.700000   \n",
       "max       2022.0    8.000000   16.000000             30.300000   \n",
       "\n",
       "       FUELCONSUMPTION_HWY  FUELCONSUMPTION_COMB  FUELCONSUMPTION_COMB_MPG  \\\n",
       "count           945.000000            945.000000                945.000000   \n",
       "mean              9.374603             11.102222                 27.222222   \n",
       "std               2.290217              2.878074                  7.684409   \n",
       "min               3.900000              4.000000                 11.000000   \n",
       "25%               7.700000              9.100000                 22.000000   \n",
       "50%               9.200000             10.800000                 26.000000   \n",
       "75%              10.700000             12.900000                 31.000000   \n",
       "max              20.900000             26.100000                 71.000000   \n",
       "\n",
       "       CO2EMISSIONS  \n",
       "count    945.000000  \n",
       "mean     259.410582  \n",
       "std       64.486225  \n",
       "min       94.000000  \n",
       "25%      214.000000  \n",
       "50%      258.000000  \n",
       "75%      301.000000  \n",
       "max      608.000000  "
      ]
     },
     "execution_count": 72,
     "metadata": {},
     "output_type": "execute_result"
    }
   ],
   "source": [
    "# Pedimos una derscripción para explorar nuestra base de datos\n",
    "df.describe()"
   ]
  },
  {
   "cell_type": "code",
   "execution_count": 73,
   "id": "1b75654a-09bc-4835-8bc7-1b9389c5574b",
   "metadata": {},
   "outputs": [],
   "source": [
    "# Eliminamos columnas categóricas, para quedarnos solo con las númericas\n",
    "df_numeric = df.select_dtypes(include=[np.number])"
   ]
  },
  {
   "cell_type": "code",
   "execution_count": 75,
   "id": "b6fe2147-e615-4a2f-93b9-0f9ea612669f",
   "metadata": {},
   "outputs": [
    {
     "data": {
      "text/plain": [
       "<Axes: >"
      ]
     },
     "execution_count": 75,
     "metadata": {},
     "output_type": "execute_result"
    },
    {
     "data": {
      "image/png": "[encoded data removed]",
      "text/plain": [
       "<Figure size 2000x600 with 1 Axes>"
      ]
     },
     "metadata": {},
     "output_type": "display_data"
    }
   ],
   "source": [
    "# Revisamos visualmente que no tengamos valores nulos\n",
    "plt.figure(figsize=(20,6)) # Definimos el tamaño de la figura\n",
    "sns.heatmap(df_numeric.isnull(),yticklabels=False, cbar=False, cmap='viridis')"
   ]
  },
  {
   "cell_type": "code",
   "execution_count": 76,
   "id": "388aa984-79c0-4016-aefe-20eddb159c92",
   "metadata": {},
   "outputs": [
    {
     "name": "stdout",
     "output_type": "stream",
     "text": [
      "MODELYEAR                   0\n",
      "ENGINESIZE                  0\n",
      "CYLINDERS                   0\n",
      "FUELCONSUMPTION_CITY        0\n",
      "FUELCONSUMPTION_HWY         0\n",
      "FUELCONSUMPTION_COMB        0\n",
      "FUELCONSUMPTION_COMB_MPG    0\n",
      "CO2EMISSIONS                0\n",
      "dtype: int64\n"
     ]
    }
   ],
   "source": [
    "# Como observamos esta lompia, pero aún así hacemos otra verificación de valores nulos con código\n",
    "print(df_numeric.isnull().sum())"
   ]
  },
  {
   "cell_type": "code",
   "execution_count": 77,
   "id": "06f3a5e8-4e2b-439e-aae6-be2045d5a8d9",
   "metadata": {},
   "outputs": [
    {
     "data": {
      "text/plain": [
       "(945, 8)"
      ]
     },
     "execution_count": 77,
     "metadata": {},
     "output_type": "execute_result"
    }
   ],
   "source": [
    "# corroboramos el tamaño de nuestra base de Datos\n",
    "df_numeric.shape "
   ]
  },
  {
   "cell_type": "code",
   "execution_count": 87,
   "id": "2f9a9d51-3554-4e0d-8003-f5110cc94c1e",
   "metadata": {},
   "outputs": [],
   "source": [
    "# Hacemos la definición de nuestras variables\n",
    "X = df_numeric.drop('CO2EMISSIONS', axis=1)\n",
    "y = df_numeric['CO2EMISSIONS']"
   ]
  },
  {
   "cell_type": "code",
   "execution_count": 88,
   "id": "1353599c-8769-45df-b5f9-079c1b6126d8",
   "metadata": {},
   "outputs": [
    {
     "data": {
      "text/html": [
       "<div>\n",
       "<style scoped>\n",
       "    .dataframe tbody tr th:only-of-type {\n",
       "        vertical-align: middle;\n",
       "    }\n",
       "\n",
       "    .dataframe tbody tr th {\n",
       "        vertical-align: top;\n",
       "    }\n",
       "\n",
       "    .dataframe thead th {\n",
       "        text-align: right;\n",
       "    }\n",
       "</style>\n",
       "<table border=\"1\" class=\"dataframe\">\n",
       "  <thead>\n",
       "    <tr style=\"text-align: right;\">\n",
       "      <th></th>\n",
       "      <th>MODELYEAR</th>\n",
       "      <th>ENGINESIZE</th>\n",
       "      <th>CYLINDERS</th>\n",
       "      <th>FUELCONSUMPTION_CITY</th>\n",
       "      <th>FUELCONSUMPTION_HWY</th>\n",
       "      <th>FUELCONSUMPTION_COMB</th>\n",
       "      <th>FUELCONSUMPTION_COMB_MPG</th>\n",
       "    </tr>\n",
       "  </thead>\n",
       "  <tbody>\n",
       "    <tr>\n",
       "      <th>0</th>\n",
       "      <td>2022</td>\n",
       "      <td>2.4</td>\n",
       "      <td>4</td>\n",
       "      <td>9.9</td>\n",
       "      <td>7.0</td>\n",
       "      <td>8.6</td>\n",
       "      <td>33</td>\n",
       "    </tr>\n",
       "    <tr>\n",
       "      <th>1</th>\n",
       "      <td>2022</td>\n",
       "      <td>3.5</td>\n",
       "      <td>6</td>\n",
       "      <td>12.6</td>\n",
       "      <td>9.4</td>\n",
       "      <td>11.2</td>\n",
       "      <td>25</td>\n",
       "    </tr>\n",
       "    <tr>\n",
       "      <th>2</th>\n",
       "      <td>2022</td>\n",
       "      <td>2.0</td>\n",
       "      <td>4</td>\n",
       "      <td>11.0</td>\n",
       "      <td>8.6</td>\n",
       "      <td>9.9</td>\n",
       "      <td>29</td>\n",
       "    </tr>\n",
       "    <tr>\n",
       "      <th>3</th>\n",
       "      <td>2022</td>\n",
       "      <td>2.0</td>\n",
       "      <td>4</td>\n",
       "      <td>11.3</td>\n",
       "      <td>9.1</td>\n",
       "      <td>10.3</td>\n",
       "      <td>27</td>\n",
       "    </tr>\n",
       "    <tr>\n",
       "      <th>4</th>\n",
       "      <td>2022</td>\n",
       "      <td>2.0</td>\n",
       "      <td>4</td>\n",
       "      <td>11.2</td>\n",
       "      <td>8.0</td>\n",
       "      <td>9.8</td>\n",
       "      <td>29</td>\n",
       "    </tr>\n",
       "    <tr>\n",
       "      <th>...</th>\n",
       "      <td>...</td>\n",
       "      <td>...</td>\n",
       "      <td>...</td>\n",
       "      <td>...</td>\n",
       "      <td>...</td>\n",
       "      <td>...</td>\n",
       "      <td>...</td>\n",
       "    </tr>\n",
       "    <tr>\n",
       "      <th>940</th>\n",
       "      <td>2022</td>\n",
       "      <td>2.0</td>\n",
       "      <td>4</td>\n",
       "      <td>10.7</td>\n",
       "      <td>7.7</td>\n",
       "      <td>9.4</td>\n",
       "      <td>30</td>\n",
       "    </tr>\n",
       "    <tr>\n",
       "      <th>941</th>\n",
       "      <td>2022</td>\n",
       "      <td>2.0</td>\n",
       "      <td>4</td>\n",
       "      <td>10.5</td>\n",
       "      <td>8.1</td>\n",
       "      <td>9.4</td>\n",
       "      <td>30</td>\n",
       "    </tr>\n",
       "    <tr>\n",
       "      <th>942</th>\n",
       "      <td>2022</td>\n",
       "      <td>2.0</td>\n",
       "      <td>4</td>\n",
       "      <td>11.0</td>\n",
       "      <td>8.7</td>\n",
       "      <td>9.9</td>\n",
       "      <td>29</td>\n",
       "    </tr>\n",
       "    <tr>\n",
       "      <th>943</th>\n",
       "      <td>2022</td>\n",
       "      <td>2.0</td>\n",
       "      <td>4</td>\n",
       "      <td>11.5</td>\n",
       "      <td>8.4</td>\n",
       "      <td>10.1</td>\n",
       "      <td>28</td>\n",
       "    </tr>\n",
       "    <tr>\n",
       "      <th>944</th>\n",
       "      <td>2022</td>\n",
       "      <td>2.0</td>\n",
       "      <td>4</td>\n",
       "      <td>12.4</td>\n",
       "      <td>8.9</td>\n",
       "      <td>10.8</td>\n",
       "      <td>26</td>\n",
       "    </tr>\n",
       "  </tbody>\n",
       "</table>\n",
       "<p>945 rows × 7 columns</p>\n",
       "</div>"
      ],
      "text/plain": [
       "     MODELYEAR  ENGINESIZE  CYLINDERS  FUELCONSUMPTION_CITY  \\\n",
       "0         2022         2.4          4                   9.9   \n",
       "1         2022         3.5          6                  12.6   \n",
       "2         2022         2.0          4                  11.0   \n",
       "3         2022         2.0          4                  11.3   \n",
       "4         2022         2.0          4                  11.2   \n",
       "..         ...         ...        ...                   ...   \n",
       "940       2022         2.0          4                  10.7   \n",
       "941       2022         2.0          4                  10.5   \n",
       "942       2022         2.0          4                  11.0   \n",
       "943       2022         2.0          4                  11.5   \n",
       "944       2022         2.0          4                  12.4   \n",
       "\n",
       "     FUELCONSUMPTION_HWY  FUELCONSUMPTION_COMB  FUELCONSUMPTION_COMB_MPG  \n",
       "0                    7.0                   8.6                        33  \n",
       "1                    9.4                  11.2                        25  \n",
       "2                    8.6                   9.9                        29  \n",
       "3                    9.1                  10.3                        27  \n",
       "4                    8.0                   9.8                        29  \n",
       "..                   ...                   ...                       ...  \n",
       "940                  7.7                   9.4                        30  \n",
       "941                  8.1                   9.4                        30  \n",
       "942                  8.7                   9.9                        29  \n",
       "943                  8.4                  10.1                        28  \n",
       "944                  8.9                  10.8                        26  \n",
       "\n",
       "[945 rows x 7 columns]"
      ]
     },
     "execution_count": 88,
     "metadata": {},
     "output_type": "execute_result"
    }
   ],
   "source": [
    "# Pedimos que nos muestre\n",
    "X"
   ]
  },
  {
   "cell_type": "code",
   "execution_count": 89,
   "id": "7375ed34-44d6-45b2-b5db-3c0369716bfc",
   "metadata": {},
   "outputs": [
    {
     "data": {
      "text/plain": [
       "0      200\n",
       "1      263\n",
       "2      232\n",
       "3      242\n",
       "4      230\n",
       "      ... \n",
       "940    219\n",
       "941    219\n",
       "942    232\n",
       "943    236\n",
       "944    252\n",
       "Name: CO2EMISSIONS, Length: 945, dtype: int64"
      ]
     },
     "execution_count": 89,
     "metadata": {},
     "output_type": "execute_result"
    }
   ],
   "source": [
    "# Ahora pedimos que nos muestre Y\n",
    "y"
   ]
  },
  {
   "cell_type": "code",
   "execution_count": 91,
   "id": "b9f3691f-766f-4a15-b9b9-8083aaa548a5",
   "metadata": {},
   "outputs": [],
   "source": [
    "# Ahora usamos Machine Learning para hacer la división en grupos de entrenamiento (training) y de prueba (testing) Como esta ya cargada la libreria nos vamos directo a la instrucción\n",
    "X_train, X_test, y_train, y_test = train_test_split(X, y, test_size=0.2, random_state=42) # Tomo arbitrariamente 42, por tradición, aunque aclaro que cualquier numero podria funcionar, siempre que este sea un valor entero"
   ]
  },
  {
   "cell_type": "code",
   "execution_count": 93,
   "id": "31e2d6aa-824a-4bda-9563-79ac44fa71a3",
   "metadata": {},
   "outputs": [],
   "source": [
    "# Escalamos los datos\n",
    "scaler = StandardScaler()\n",
    "X_train_scaled = scaler.fit_transform(X_train)\n",
    "X_test_scaled = scaler.transform(X_test)"
   ]
  },
  {
   "cell_type": "code",
   "execution_count": 94,
   "id": "ef19405a-21ed-4633-8969-498f8903ce90",
   "metadata": {},
   "outputs": [
    {
     "data": {
      "text/html": [
       "<style>#sk-container-id-6 {color: black;}#sk-container-id-6 pre{padding: 0;}#sk-container-id-6 div.sk-toggleable {background-color: white;}#sk-container-id-6 label.sk-toggleable__label {cursor: pointer;display: block;width: 100%;margin-bottom: 0;padding: 0.3em;box-sizing: border-box;text-align: center;}#sk-container-id-6 label.sk-toggleable__label-arrow:before {content: \"▸\";float: left;margin-right: 0.25em;color: #696969;}#sk-container-id-6 label.sk-toggleable__label-arrow:hover:before {color: black;}#sk-container-id-6 div.sk-estimator:hover label.sk-toggleable__label-arrow:before {color: black;}#sk-container-id-6 div.sk-toggleable__content {max-height: 0;max-width: 0;overflow: hidden;text-align: left;background-color: #f0f8ff;}#sk-container-id-6 div.sk-toggleable__content pre {margin: 0.2em;color: black;border-radius: 0.25em;background-color: #f0f8ff;}#sk-container-id-6 input.sk-toggleable__control:checked~div.sk-toggleable__content {max-height: 200px;max-width: 100%;overflow: auto;}#sk-container-id-6 input.sk-toggleable__control:checked~label.sk-toggleable__label-arrow:before {content: \"▾\";}#sk-container-id-6 div.sk-estimator input.sk-toggleable__control:checked~label.sk-toggleable__label {background-color: #d4ebff;}#sk-container-id-6 div.sk-label input.sk-toggleable__control:checked~label.sk-toggleable__label {background-color: #d4ebff;}#sk-container-id-6 input.sk-hidden--visually {border: 0;clip: rect(1px 1px 1px 1px);clip: rect(1px, 1px, 1px, 1px);height: 1px;margin: -1px;overflow: hidden;padding: 0;position: absolute;width: 1px;}#sk-container-id-6 div.sk-estimator {font-family: monospace;background-color: #f0f8ff;border: 1px dotted black;border-radius: 0.25em;box-sizing: border-box;margin-bottom: 0.5em;}#sk-container-id-6 div.sk-estimator:hover {background-color: #d4ebff;}#sk-container-id-6 div.sk-parallel-item::after {content: \"\";width: 100%;border-bottom: 1px solid gray;flex-grow: 1;}#sk-container-id-6 div.sk-label:hover label.sk-toggleable__label {background-color: #d4ebff;}#sk-container-id-6 div.sk-serial::before {content: \"\";position: absolute;border-left: 1px solid gray;box-sizing: border-box;top: 0;bottom: 0;left: 50%;z-index: 0;}#sk-container-id-6 div.sk-serial {display: flex;flex-direction: column;align-items: center;background-color: white;padding-right: 0.2em;padding-left: 0.2em;position: relative;}#sk-container-id-6 div.sk-item {position: relative;z-index: 1;}#sk-container-id-6 div.sk-parallel {display: flex;align-items: stretch;justify-content: center;background-color: white;position: relative;}#sk-container-id-6 div.sk-item::before, #sk-container-id-6 div.sk-parallel-item::before {content: \"\";position: absolute;border-left: 1px solid gray;box-sizing: border-box;top: 0;bottom: 0;left: 50%;z-index: -1;}#sk-container-id-6 div.sk-parallel-item {display: flex;flex-direction: column;z-index: 1;position: relative;background-color: white;}#sk-container-id-6 div.sk-parallel-item:first-child::after {align-self: flex-end;width: 50%;}#sk-container-id-6 div.sk-parallel-item:last-child::after {align-self: flex-start;width: 50%;}#sk-container-id-6 div.sk-parallel-item:only-child::after {width: 0;}#sk-container-id-6 div.sk-dashed-wrapped {border: 1px dashed gray;margin: 0 0.4em 0.5em 0.4em;box-sizing: border-box;padding-bottom: 0.4em;background-color: white;}#sk-container-id-6 div.sk-label label {font-family: monospace;font-weight: bold;display: inline-block;line-height: 1.2em;}#sk-container-id-6 div.sk-label-container {text-align: center;}#sk-container-id-6 div.sk-container {/* jupyter's `normalize.less` sets `[hidden] { display: none; }` but bootstrap.min.css set `[hidden] { display: none !important; }` so we also need the `!important` here to be able to override the default hidden behavior on the sphinx rendered scikit-learn.org. See: https://github.com/scikit-learn/scikit-learn/issues/21755 */display: inline-block !important;position: relative;}#sk-container-id-6 div.sk-text-repr-fallback {display: none;}</style><div id=\"sk-container-id-6\" class=\"sk-top-container\"><div class=\"sk-text-repr-fallback\"><pre>LinearRegression()</pre><b>In a Jupyter environment, please rerun this cell to show the HTML representation or trust the notebook. <br />On GitHub, the HTML representation is unable to render, please try loading this page with nbviewer.org.</b></div><div class=\"sk-container\" hidden><div class=\"sk-item\"><div class=\"sk-estimator sk-toggleable\"><input class=\"sk-toggleable__control sk-hidden--visually\" id=\"sk-estimator-id-6\" type=\"checkbox\" checked><label for=\"sk-estimator-id-6\" class=\"sk-toggleable__label sk-toggleable__label-arrow\">LinearRegression</label><div class=\"sk-toggleable__content\"><pre>LinearRegression()</pre></div></div></div></div></div>"
      ],
      "text/plain": [
       "LinearRegression()"
      ]
     },
     "execution_count": 94,
     "metadata": {},
     "output_type": "execute_result"
    }
   ],
   "source": [
    "# Hacemos la regresión Lineal Múltiple\n",
    "model_lr = LinearRegression()\n",
    "model_lr.fit(X_train_scaled, y_train)"
   ]
  },
  {
   "cell_type": "code",
   "execution_count": 96,
   "id": "66d01a01-b52d-4804-a2ff-3c30dfb8a991",
   "metadata": {},
   "outputs": [
    {
     "name": "stdout",
     "output_type": "stream",
     "text": [
      "Intercepto:  260.21560846560845\n",
      "Coeficientes:  [ 0.          0.31713431  7.95632003  4.18964803  7.95861208 36.27085945\n",
      " -9.76792333]\n"
     ]
    }
   ],
   "source": [
    "# Impresión de coeficientes de regresión lineal multiple\n",
    "print(\"Intercepto: \", model_lr.intercept_)\n",
    "print(\"Coeficientes: \", model_lr.coef_)"
   ]
  },
  {
   "cell_type": "code",
   "execution_count": 97,
   "id": "e1d5d538-41be-4f38-a0af-4ca1a36e0a85",
   "metadata": {},
   "outputs": [
    {
     "data": {
      "text/plain": [
       "array([242.92694037, 306.42675941, 311.13347263, 251.42850259,\n",
       "       270.31911475, 213.54102758, 264.99969682, 179.21743937,\n",
       "       254.99756731, 286.04122934, 102.23687277, 266.83764481,\n",
       "       242.13087491, 202.99683069, 264.32026568, 211.90922941,\n",
       "       279.68243239, 207.3161498 , 191.33187219, 295.22225251,\n",
       "       325.45516421, 186.59161482, 378.00138706, 329.56873035,\n",
       "       264.99969682, 219.91253015, 348.03143577, 356.50453138,\n",
       "       167.74940168, 322.99267126, 305.50331546, 239.30092247,\n",
       "       287.54882086, 242.03165063, 216.9085228 , 196.07102364,\n",
       "       178.50279614, 358.81368386, 355.67372013, 235.77207796,\n",
       "       233.27956473, 293.17413604, 328.18540885, 169.21374635,\n",
       "       264.87650402, 211.44807095, 238.46258592, 326.49912357,\n",
       "       353.79259086, 283.26420272, 159.54956937, 237.29194622,\n",
       "       289.49787301, 277.71111818, 434.00229489, 223.29269898,\n",
       "       180.68686158, 293.68882418, 166.93602156, 309.80222381,\n",
       "       468.36155298, 287.89856882, 223.48663278, 123.77172623,\n",
       "       257.31398842, 309.47245011, 184.79445489, 319.93481807,\n",
       "       201.86180215, 327.02747477, 187.17441571, 264.60377073,\n",
       "       212.35307322, 240.74739951, 328.07143413, 195.05204665,\n",
       "       228.36428373, 222.80112337, 276.19592454, 223.869909  ,\n",
       "       235.18423915, 220.9488218 , 231.14186331, 273.74054633,\n",
       "       262.44512415, 259.54382531, 357.16008608, 205.31985323,\n",
       "       177.57336446, 268.53968345, 238.64436706, 247.82594319,\n",
       "       284.86038973, 256.50772304, 263.67990012, 323.33417747,\n",
       "       283.71824644, 219.6692453 , 303.43686507, 259.68485923,\n",
       "       287.54882086, 238.69316515, 169.23767733, 242.43017075,\n",
       "       329.27111228, 473.54423823, 222.22336039, 187.63053626,\n",
       "       209.49865174, 138.89181436, 220.13040376, 214.00426287,\n",
       "       271.50514838, 204.17263239, 162.32211103, 344.97426204,\n",
       "       234.34850645, 381.57548969, 314.32612924, 261.14768002,\n",
       "       257.31398842, 278.7556305 , 252.2368448 , 220.14310938,\n",
       "       269.83712758, 400.11334721, 346.48441777, 234.49250145,\n",
       "       202.09085751, 209.49306086, 321.20056415, 162.44375346,\n",
       "       195.36867206, 395.70452242, 190.54292147, 357.16008608,\n",
       "       230.90569321, 227.30817172, 285.60600306, 268.08927787,\n",
       "       213.86475283, 265.02315532, 306.09991698, 199.44410973,\n",
       "       209.15354482, 227.75146256, 276.46003809, 159.91910569,\n",
       "       420.81392427, 284.8218473 , 247.4004544 , 287.54882086,\n",
       "       222.92780371, 261.26373157, 273.76345187, 293.57066599,\n",
       "       221.38762769, 284.66850682, 276.05953167, 290.35226926,\n",
       "       209.61470329, 234.49250145, 240.68943578, 348.00892709,\n",
       "       291.0165509 , 202.99683069, 242.45307629, 316.71334379,\n",
       "       230.58092761, 349.02222875, 234.62889432, 250.9572683 ,\n",
       "       468.36155298, 258.01787878, 195.71935494, 301.35661406,\n",
       "       312.23176521, 218.05015275, 309.5361288 , 167.30555788,\n",
       "       219.32469135, 215.51234178, 177.57336446, 271.34016857,\n",
       "       251.53240149, 124.36625091, 220.83484708, 208.22618998,\n",
       "       287.54882086])"
      ]
     },
     "execution_count": 97,
     "metadata": {},
     "output_type": "execute_result"
    }
   ],
   "source": [
    "# Ahora hacemos e imprimimos la predicción\n",
    "y_pred_lr = model_lr.predict(X_test_scaled)\n",
    "y_pred_lr"
   ]
  },
  {
   "cell_type": "code",
   "execution_count": 100,
   "id": "c79c1ecb-2db4-4539-bc42-9f725f05c8b5",
   "metadata": {},
   "outputs": [
    {
     "name": "stdout",
     "output_type": "stream",
     "text": [
      "Regresión Lineal Múltiple:\n",
      "Valor de R cuadrada:  0.9004924315633441\n",
      "Error absoluto medio:  7.339144920646457\n",
      "Error cuadratico medio:  368.8672604772697\n",
      "Raíz del error cuadratico medio:  19.20591732975204\n"
     ]
    }
   ],
   "source": [
    "# Calculamos e imprimimos los indicadores de bondad de ajuste\n",
    "# como previamente ya se bajaron las librerias, ahora solo aplicamos los indicadores, Agrego lr para indicar que corresponden a la regresion lineal\n",
    "print(\"Regresión Lineal Múltiple:\")\n",
    "print (\"Valor de R cuadrada: \", r2_score(y_test, y_pred_lr))\n",
    "print(\"Error absoluto medio: \", mean_absolute_error(y_test, y_pred_lr))\n",
    "print(\"Error cuadratico medio: \", mean_squared_error(y_test, y_pred_lr))\n",
    "print(\"Raíz del error cuadratico medio: \", np.sqrt(mean_squared_error(y_test, y_pred_lr)))"
   ]
  },
  {
   "cell_type": "code",
   "execution_count": 132,
   "id": "6ca56e7a-5042-4a0d-b8fa-641c0e8ae493",
   "metadata": {},
   "outputs": [
    {
     "name": "stdout",
     "output_type": "stream",
     "text": [
      "Resumen del prónostico de la regresión líneal:\n",
      "Pronóstico Regresión Líneal: 242.92694037393744\n",
      "Valor real: 247\n"
     ]
    }
   ],
   "source": [
    "# Pronóstico con la Regresión líneal\n",
    "pred_lr = model_lr.predict(X_test_scaled[0].reshape(1, -1))\n",
    "print(\"Resumen del prónostico de la regresión líneal:\")\n",
    "print(f\"Pronóstico Regresión Líneal: {pred_lr[0]}\")\n",
    "print(f\"Valor real: {y_test.iloc[0]}\")"
   ]
  },
  {
   "cell_type": "code",
   "execution_count": 133,
   "id": "1be6124c-8463-4d2e-8c0a-d65424be5520",
   "metadata": {},
   "outputs": [],
   "source": [
    "# Regresión Ridge\n",
    "ridge = Ridge()\n",
    "parameters = {'alpha': np.logspace(-4, 4, 20)}  # Generaremos 20 valores de alpha distribuidos logarítmicamente entre 10 a la menos 4 y 10 a la 4ta \n",
    "ridge_regressor = GridSearchCV(ridge, parameters, scoring='neg_mean_squared_error', cv=5) # Damos la instrucción para realizar una búsqueda  para encontrar la mejor combinación con una validación cruzada de 5 pliegues\n",
    "ridge_regressor.fit(X_train_scaled, y_train) # Hacemos entrenamiento\n",
    "y_pred_ridge = ridge_regressor.predict(X_test_scaled) # hacemos la predicción"
   ]
  },
  {
   "cell_type": "code",
   "execution_count": 134,
   "id": "f90631da-581b-47a4-852c-cd245a79e586",
   "metadata": {},
   "outputs": [
    {
     "name": "stdout",
     "output_type": "stream",
     "text": [
      "Regresión Ridge:\n",
      "Valor de R cuadrada:  0.9025991357657954\n",
      "Error absoluto medio:  7.457991075299378\n",
      "Error cuadratico medio:  361.0578624585766\n",
      "Raíz del error cuadratico medio:  19.001522635267328\n"
     ]
    }
   ],
   "source": [
    "# Calculamos e imprimimos los indicadores de bondad de ajuste\n",
    "print(\"Regresión Ridge:\")\n",
    "print (\"Valor de R cuadrada: \", r2_score(y_test, y_pred_ridge))\n",
    "print(\"Error absoluto medio: \", mean_absolute_error(y_test, y_pred_ridge))\n",
    "print(\"Error cuadratico medio: \", mean_squared_error(y_test, y_pred_ridge))\n",
    "print(\"Raíz del error cuadratico medio: \", np.sqrt(mean_squared_error(y_test, y_pred_ridge)))"
   ]
  },
  {
   "cell_type": "code",
   "execution_count": 135,
   "id": "54309408-c7cd-40e0-9e8f-a0d42dcb9aaa",
   "metadata": {},
   "outputs": [
    {
     "name": "stdout",
     "output_type": "stream",
     "text": [
      "Resumen Ridge:\n",
      "Pronóstico Ridge: 243.21348417292504\n",
      "Valor real: 247\n"
     ]
    }
   ],
   "source": [
    "# Pronóstico Ridge\n",
    "print(\"Resumen Ridge:\")\n",
    "pred_ridge = ridge_regressor.predict(X_test_scaled[0].reshape(1, -1))\n",
    "print(f\"Pronóstico Ridge: {pred_ridge[0]}\") \n",
    "print(f\"Valor real: {y_test.iloc[0]}\")"
   ]
  },
  {
   "cell_type": "code",
   "execution_count": 136,
   "id": "e0988a13-eafa-4478-a50e-f52c5f1d0507",
   "metadata": {},
   "outputs": [],
   "source": [
    "# Regresión Lasso\n",
    "lasso = Lasso()\n",
    "lasso_regressor = GridSearchCV(lasso, parameters, scoring='neg_mean_squared_error', cv=5) # Aplicamos la regresión Lasso\n",
    "lasso_regressor.fit(X_train_scaled, y_train) #para el entrenamiento escalado\n",
    "y_pred_lasso = lasso_regressor.predict(X_test_scaled) # Para la predicción"
   ]
  },
  {
   "cell_type": "code",
   "execution_count": 137,
   "id": "ca4fff46-52bc-4857-8759-1a486778f728",
   "metadata": {},
   "outputs": [
    {
     "name": "stdout",
     "output_type": "stream",
     "text": [
      "Regresión Lasso:\n",
      "Valor de R cuadrada:  0.9003487930086278\n",
      "Error absoluto medio:  7.35414085943996\n",
      "Error cuadratico medio:  369.3997180682803\n",
      "Raíz del error cuadratico medio:  19.219774141968482\n"
     ]
    }
   ],
   "source": [
    "# Calculamos e imprimimos los indicadores de bondad de ajuste\n",
    "print(\"Regresión Lasso:\")\n",
    "print (\"Valor de R cuadrada: \", r2_score(y_test, y_pred_lasso))\n",
    "print(\"Error absoluto medio: \", mean_absolute_error(y_test, y_pred_lasso))\n",
    "print(\"Error cuadratico medio: \", mean_squared_error(y_test, y_pred_lasso))\n",
    "print(\"Raíz del error cuadratico medio: \", np.sqrt(mean_squared_error(y_test, y_pred_lasso)))"
   ]
  },
  {
   "cell_type": "code",
   "execution_count": 138,
   "id": "e0d0bf25-252c-41c3-bfc0-ab47942aef49",
   "metadata": {},
   "outputs": [
    {
     "name": "stdout",
     "output_type": "stream",
     "text": [
      "Resumen del prónostico Lasso:\n",
      "Pronóstico Lasso: 243.5999472397011\n",
      "Valor real: 247\n"
     ]
    }
   ],
   "source": [
    "# Pronóstico Lasso\n",
    "print(\"Resumen del prónostico Lasso:\")\n",
    "pred_lasso = lasso_regressor.predict(X_test_scaled[0].reshape(1, -1))\n",
    "print(f\"Pronóstico Lasso: {pred_lasso[0]}\")\n",
    "print(f\"Valor real: {y_test.iloc[0]}\")"
   ]
  },
  {
   "cell_type": "code",
   "execution_count": 143,
   "id": "e5158b5d-e729-457b-9561-7d164a13f73d",
   "metadata": {},
   "outputs": [
    {
     "name": "stdout",
     "output_type": "stream",
     "text": [
      "\n",
      "Comparación de los indicadores de bondad de ajuste de los modelos:\n",
      "Valor de R cuadrada - Lineal: 0.9004924315633441, Ridge: 0.9025991357657954, Lasso: 0.9003487930086278\n",
      "Error absoluto medio - Lineal: 7.339144920646457, Ridge: 7.457991075299378, Lasso: 7.35414085943996\n",
      "Error cuadratico medio - Lineal: 361.0578624585766, Ridge: 361.0578624585766, Lasso: 369.3997180682803\n",
      "Raíz del error cuadratico medio - Lineal: 19.20591732975204, Ridge: 19.001522635267328, Lasso: 19.219774141968482\n"
     ]
    }
   ],
   "source": [
    "# Comparación de modelos\n",
    "print(\"\\nComparación de los indicadores de bondad de ajuste de los modelos:\")\n",
    "print (f\"Valor de R cuadrada - Lineal: {r2_score(y_test, y_pred_lr)}, Ridge: {r2_score(y_test, y_pred_ridge)}, Lasso: {r2_score(y_test, y_pred_lasso)}\")\n",
    "print(f\"Error absoluto medio - Lineal: {mean_absolute_error(y_test, y_pred_lr)}, Ridge: {mean_absolute_error(y_test, y_pred_ridge)}, Lasso: {mean_absolute_error(y_test, y_pred_lasso)}\")\n",
    "print(f\"Error cuadratico medio - Lineal: {mean_squared_error(y_test, y_pred_ridge)}, Ridge: {mean_squared_error(y_test, y_pred_ridge)}, Lasso: {mean_squared_error(y_test, y_pred_lasso)}\")\n",
    "print(f\"Raíz del error cuadratico medio - Lineal: {np.sqrt(mean_squared_error(y_test, y_pred_lr))}, Ridge: {np.sqrt(mean_squared_error(y_test, y_pred_ridge))}, Lasso: {np.sqrt(mean_squared_error(y_test, y_pred_lasso))}\")"
   ]
  },
  {
   "cell_type": "markdown",
   "id": "ae52b294-4699-4fd2-a16d-81e2dbf99ab6",
   "metadata": {},
   "source": [
    "## Si analizamos por separado los indicadores de bondad encontramos que:\n",
    "- La regresión Ridge tiene el R cuadrado más alto, lo que sugiere que explica una mayor proporción de la variabilidad en los datos\n",
    "- La regresión Lineal tiene el MAE más bajo, lo que indica que sus predicciones son, en promedio, las más cercanas a los valores reales\n",
    "- La regresión Lineal y Ridge tienen el Error Cuadrático Medio más bajo, lo que nos indica un mejor ajuste\n",
    "- La regresión de Ridge tiene la Raíz del Error Cuadrático Medio más bajo, esto nos proporciona una medida del error en las mismas unidades que la variable dependiente."
   ]
  },
  {
   "cell_type": "code",
   "execution_count": 147,
   "id": "b83c0a67-4929-4939-aaae-65aff630f926",
   "metadata": {},
   "outputs": [
    {
     "name": "stdout",
     "output_type": "stream",
     "text": [
      "\n",
      "Comparación de Pronosticos de los modelos:\n",
      "Valor real: 247\n",
      "Pronóstico - Lineal: 242.92694037393744, Ridge: [243.21348417], Lasso: [243.59994724]\n"
     ]
    }
   ],
   "source": [
    "# Comparación de pronosticos\n",
    "print(\"\\nComparación de Pronosticos de los modelos:\")\n",
    "print(f\"Valor real: {y_test.iloc[0]}\")\n",
    "print(f\"Pronóstico - Lineal: {pred_lr[0]}, Ridge: {pred_ridge}, Lasso: {pred_lasso}\")"
   ]
  },
  {
   "cell_type": "markdown",
   "id": "9b3ebf71-f4a9-4801-aef5-6c2aadb013a6",
   "metadata": {},
   "source": [
    "## Comparación en los pronosticos:\n",
    "Como se puede observar los pronosticos son muy similares, la variación es muy poca, pero por pronostico la regresiópn Lasso es el que más se acerca"
   ]
  },
  {
   "cell_type": "markdown",
   "id": "13cb0be0-9b65-434b-84a3-19d5b83e4ee2",
   "metadata": {},
   "source": [
    "## Conclusión\n",
    "La elección final podría depender de la importancia relativa de las diferentes métricas y de las necesidades específicas del problema. \n",
    "#### \n",
    "Si la interpretabilidad del modelo es crucial, la regresión lineal simple podría ser preferible, basandonos en los indicadores de Bondad \n",
    "#### \n",
    "Si se busca la mayor precisión posible, entonces Ridge podría ser la mejor opción, basandonos en los indicadores de bondad, aún cuando Lasso nos ofrezca mayor acertividad en pronóstico, siempre es importante guiarnos más por los indicadores de bondadque por el resultado final en un pronóstico"
   ]
  },
  {
   "cell_type": "code",
   "execution_count": null,
   "id": "b6ef58c9-a992-44be-b8cb-31ff9a3e8698",
   "metadata": {},
   "outputs": [],
   "source": []
  }
 ],
 "metadata": {
  "kernelspec": {
   "display_name": "anaconda-panel-2023.05-py310",
   "language": "python",
   "name": "conda-env-anaconda-panel-2023.05-py310-py"
  },
  "language_info": {
   "codemirror_mode": {
    "name": "ipython",
    "version": 3
   },
   "file_extension": ".py",
   "mimetype": "text/x-python",
   "name": "python",
   "nbconvert_exporter": "python",
   "pygments_lexer": "ipython3",
   "version": "3.11.5"
  }
 },
 "nbformat": 4,
 "nbformat_minor": 5
}
